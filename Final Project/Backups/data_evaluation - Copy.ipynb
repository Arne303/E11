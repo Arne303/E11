{
 "cells": [
  {
   "cell_type": "code",
   "execution_count": 9,
   "metadata": {},
   "outputs": [],
   "source": [
    "import math\n",
    "import numpy as np\n",
    "import pandas as pd\n",
    "import matplotlib.pyplot as plt\n",
    "import csv"
   ]
  },
  {
   "cell_type": "code",
   "execution_count": 10,
   "metadata": {},
   "outputs": [],
   "source": [
    "# Creating a common file for the radiation data using CSV\n",
    "filename_data = \"rad_data.csv\"\n",
    "file_data = open(filename_data,\"w\",newline=\"\")\n",
    "writer_data = csv.writer(file_data)\n",
    "meta_data = [\"Index\",\"Mean\",\"Std\"]\n",
    "writer_data.writerow(meta_data)\n",
    "\n",
    "# Iteratively reading the radiation measurements using Pandas and writing them to a common file using CSV\n",
    "for i in range(1,34):\n",
    "    filename_temp = f\"data/loc{i}.csv\"\n",
    "    data_temp = pd.read_csv(filename_temp)\n",
    "    mean_temp = np.mean(data_temp[\"counts\"])\n",
    "    std_temp = np.std(data_temp[\"counts\"])\n",
    "    data_out = [i,mean_temp,std_temp]\n",
    "    writer_data.writerow(data_out)\n",
    "\n",
    "file_data.close()\n",
    "\n",
    "# Combining the location and radiation data into one file using Pandas\n",
    "locations = pd.read_csv(\"locations.csv\")\n",
    "rad_data = pd.read_csv(\"rad_data.csv\")\n",
    "data_all = locations.merge(rad_data)\n",
    "data_all.to_csv(\"data_all.csv\", index=False)"
   ]
  }
 ],
 "metadata": {
  "kernelspec": {
   "display_name": "base",
   "language": "python",
   "name": "python3"
  },
  "language_info": {
   "codemirror_mode": {
    "name": "ipython",
    "version": 3
   },
   "file_extension": ".py",
   "mimetype": "text/x-python",
   "name": "python",
   "nbconvert_exporter": "python",
   "pygments_lexer": "ipython3",
   "version": "3.11.5"
  }
 },
 "nbformat": 4,
 "nbformat_minor": 2
}
